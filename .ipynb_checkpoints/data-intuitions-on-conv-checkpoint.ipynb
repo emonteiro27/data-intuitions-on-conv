{
 "cells": [
  {
   "cell_type": "code",
   "execution_count": 1,
   "id": "86d2adf9",
   "metadata": {},
   "outputs": [],
   "source": [
    "import numpy as np\n",
    "import pandas as pd\n",
    "import matplotlib.pyplot as plt\n",
    "import seaborn as sns"
   ]
  },
  {
   "cell_type": "markdown",
   "id": "fd6f97fb",
   "metadata": {},
   "source": [
    "__Convolutional Neural Networks are Neural Networks specifically designed to work on images__\n",
    "\n",
    "\n",
    "- This is made possible thanks to __convolution operations__.\n",
    "\n",
    "\n",
    "- These specific mathematical operations apply a __filter__ (i.e. a set of kernels, one per channel) to an input image  and create an __output representation__. For Convolutional Neural Networks, this can also be called:\n",
    "    - a __\"convoluted representation/feature\"__,\n",
    "    - or a __\"convolution\"__,\n",
    "    - or also an __\"activation\"__ (as it corresponds to the activation of a given layer)."
   ]
  },
  {
   "cell_type": "code",
   "execution_count": null,
   "id": "82bcc56a",
   "metadata": {},
   "outputs": [],
   "source": []
  }
 ],
 "metadata": {
  "kernelspec": {
   "display_name": "Python 3 (ipykernel)",
   "language": "python",
   "name": "python3"
  },
  "language_info": {
   "codemirror_mode": {
    "name": "ipython",
    "version": 3
   },
   "file_extension": ".py",
   "mimetype": "text/x-python",
   "name": "python",
   "nbconvert_exporter": "python",
   "pygments_lexer": "ipython3",
   "version": "3.10.6"
  },
  "toc": {
   "base_numbering": 1,
   "nav_menu": {},
   "number_sections": true,
   "sideBar": true,
   "skip_h1_title": false,
   "title_cell": "Table of Contents",
   "title_sidebar": "Contents",
   "toc_cell": false,
   "toc_position": {},
   "toc_section_display": true,
   "toc_window_display": false
  }
 },
 "nbformat": 4,
 "nbformat_minor": 5
}
